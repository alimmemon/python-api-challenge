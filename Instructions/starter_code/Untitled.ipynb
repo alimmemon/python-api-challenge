{
 "cells": [
  {
   "cell_type": "code",
   "execution_count": null,
   "metadata": {},
   "outputs": [],
   "source": [
    "#Week 11 Exercise\n",
    "\n",
    "import requests\n",
    "import json\n",
    "from unidecode import unidecode\n",
    "import datetime\n",
    "import pickledb #wish there was such thing as warrendb\n",
    "\n",
    "my_app_name = \"Pickleback Class Exercise\"\n",
    "\n",
    "def get_posts(subreddit):\n",
    "    \"\"\"Warren you're a great man \n",
    "\n",
    "    \"\"\"\n",
    "    url = f'https://www.reddit.com/r/{subreddit}.json'\n",
    "    head = {'user-agent': my_app_name}\n",
    "    rawdata = requests.get(url, headers=head).json()\n",
    "\n",
    "  \n",
    "\n",
    "    listings = rawdata['data']['children']\n",
    "    returndata = []\n",
    "    \n",
    "    for item in listings:\n",
    "        itemdata = dict()\n",
    "        itemdata['id'] = item['data']['id']\n",
    "        itemdata['posttime'] = int(item['data']['created_utc'])\n",
    "        itemdata['title'] = unidecode(item['data']['title']).replace(\",\",\" \").replace(\"\\n\",\" \")\n",
    "        #itemdata['posttime']= datetime.datetime.fromtimestamp(itemdata['posttime'])\n",
    "        returndata.append(itemdata)\n",
    "\n",
    "    return(returndata)\n",
    "\n",
    "\n",
    "data = get_posts(\"rutgers\")\n",
    "\n",
    "with open('warrendb.csv', 'w') as myfile:\n",
    "  for post in data:\n",
    "    line = f\"{post['id']},{post['posttime']},{post['title']}\\n\"\n",
    "    myfile.write(line)\n",
    "\n",
    "\n",
    "db = pickledb.load('warrenback.db', True)\n",
    "\n",
    "for post in data:\n",
    "    db.set(post['id'], post)"
   ]
  }
 ],
 "metadata": {
  "kernelspec": {
   "display_name": "Python 3",
   "language": "python",
   "name": "python3"
  },
  "language_info": {
   "codemirror_mode": {
    "name": "ipython",
    "version": 3
   },
   "file_extension": ".py",
   "mimetype": "text/x-python",
   "name": "python",
   "nbconvert_exporter": "python",
   "pygments_lexer": "ipython3",
   "version": "3.7.4"
  }
 },
 "nbformat": 4,
 "nbformat_minor": 2
}
